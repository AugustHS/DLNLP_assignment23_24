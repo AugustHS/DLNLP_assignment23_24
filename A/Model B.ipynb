{
 "cells": [
  {
   "cell_type": "code",
   "execution_count": 1,
   "metadata": {},
   "outputs": [],
   "source": [
    "import pandas as pd\n",
    "import torch\n",
    "import torch.nn as nn\n",
    "import torch.optim as optim\n",
    "from torch.utils.data import Dataset, DataLoader\n",
    "from sklearn.preprocessing import LabelEncoder\n",
    "from sklearn.metrics import accuracy_score\n",
    "from tensorflow.keras.preprocessing.text import Tokenizer\n",
    "from tensorflow.keras.preprocessing.sequence import pad_sequences\n",
    "import matplotlib.pyplot as plt  "
   ]
  },
  {
   "cell_type": "code",
   "execution_count": 2,
   "metadata": {},
   "outputs": [],
   "source": [
    "train_path = './archive/train.txt'\n",
    "val_path = './archive/val.txt'\n",
    "test_path = './archive/test.txt'\n",
    "\n",
    "train_df = pd.read_csv(train_path, sep=';', names=['Text', 'Emotion'])\n",
    "val_df = pd.read_csv(val_path, sep=';', names=['Text', 'Emotion'])\n",
    "test_df = pd.read_csv(test_path, sep=';', names=['Text', 'Emotion'])\n",
    "\n",
    "train_df = train_df.drop(train_df[(train_df['Emotion'] == 'surprise') | (train_df['Emotion'] == 'love')].index)\n",
    "val_df = val_df.drop(val_df[(val_df['Emotion'] == 'surprise') | (val_df['Emotion'] == 'love')].index)\n",
    "test_df = test_df.drop(test_df[(test_df['Emotion'] == 'surprise') | (test_df['Emotion'] == 'love')].index)\n"
   ]
  },
  {
   "cell_type": "code",
   "execution_count": 3,
   "metadata": {},
   "outputs": [
    {
     "name": "stderr",
     "output_type": "stream",
     "text": [
      "d:\\anaconda3\\envs\\lab\\Lib\\site-packages\\sklearn\\utils\\validation.py:605: FutureWarning: is_sparse is deprecated and will be removed in a future version. Check `isinstance(dtype, pd.SparseDtype)` instead.\n",
      "  if is_sparse(pd_dtype):\n",
      "d:\\anaconda3\\envs\\lab\\Lib\\site-packages\\sklearn\\utils\\validation.py:614: FutureWarning: is_sparse is deprecated and will be removed in a future version. Check `isinstance(dtype, pd.SparseDtype)` instead.\n",
      "  if is_sparse(pd_dtype) or not is_extension_array_dtype(pd_dtype):\n",
      "d:\\anaconda3\\envs\\lab\\Lib\\site-packages\\sklearn\\utils\\validation.py:605: FutureWarning: is_sparse is deprecated and will be removed in a future version. Check `isinstance(dtype, pd.SparseDtype)` instead.\n",
      "  if is_sparse(pd_dtype):\n",
      "d:\\anaconda3\\envs\\lab\\Lib\\site-packages\\sklearn\\utils\\validation.py:614: FutureWarning: is_sparse is deprecated and will be removed in a future version. Check `isinstance(dtype, pd.SparseDtype)` instead.\n",
      "  if is_sparse(pd_dtype) or not is_extension_array_dtype(pd_dtype):\n",
      "d:\\anaconda3\\envs\\lab\\Lib\\site-packages\\sklearn\\utils\\validation.py:605: FutureWarning: is_sparse is deprecated and will be removed in a future version. Check `isinstance(dtype, pd.SparseDtype)` instead.\n",
      "  if is_sparse(pd_dtype):\n",
      "d:\\anaconda3\\envs\\lab\\Lib\\site-packages\\sklearn\\utils\\validation.py:614: FutureWarning: is_sparse is deprecated and will be removed in a future version. Check `isinstance(dtype, pd.SparseDtype)` instead.\n",
      "  if is_sparse(pd_dtype) or not is_extension_array_dtype(pd_dtype):\n"
     ]
    }
   ],
   "source": [
    "label_encoder = LabelEncoder()\n",
    "train_label = label_encoder.fit_transform(train_df['Emotion'])\n",
    "val_label = label_encoder.transform(val_df['Emotion'])\n",
    "test_label = label_encoder.transform(test_df['Emotion'])"
   ]
  },
  {
   "cell_type": "code",
   "execution_count": 4,
   "metadata": {},
   "outputs": [],
   "source": [
    "tokenizer = Tokenizer(num_words=10000, oov_token=\"<UNK>\")\n",
    "tokenizer.fit_on_texts(train_df['Text'])\n",
    "\n",
    "train_sequences = tokenizer.texts_to_sequences(train_df['Text'])\n",
    "val_sequences = tokenizer.texts_to_sequences(val_df['Text'])\n",
    "test_sequences = tokenizer.texts_to_sequences(test_df['Text'])\n",
    "\n",
    "max_sequence_length = 200\n",
    "train_feature = pad_sequences(train_sequences, maxlen=max_sequence_length, truncating='pre')\n",
    "val_feature = pad_sequences(val_sequences, maxlen=max_sequence_length, truncating='pre')\n",
    "test_feature = pad_sequences(test_sequences, maxlen=max_sequence_length, truncating='pre')"
   ]
  },
  {
   "cell_type": "code",
   "execution_count": 17,
   "metadata": {},
   "outputs": [
    {
     "data": {
      "text/plain": [
       "14081"
      ]
     },
     "execution_count": 17,
     "metadata": {},
     "output_type": "execute_result"
    }
   ],
   "source": [
    "vocabSize = len(tokenizer.index_word) + 1\n",
    "vocabSize"
   ]
  },
  {
   "cell_type": "code",
   "execution_count": 16,
   "metadata": {},
   "outputs": [
    {
     "data": {
      "text/plain": [
       "300"
      ]
     },
     "execution_count": 16,
     "metadata": {},
     "output_type": "execute_result"
    }
   ],
   "source": [
    "maxlen = max([len(t) for t in train_df['Text']])\n",
    "maxlen"
   ]
  },
  {
   "cell_type": "code",
   "execution_count": 5,
   "metadata": {},
   "outputs": [],
   "source": [
    "class TextDataset(Dataset):\n",
    "    def __init__(self, features, labels):\n",
    "        self.features = features\n",
    "        self.labels = labels\n",
    "    \n",
    "    def __len__(self):\n",
    "        return len(self.features)\n",
    "    \n",
    "    def __getitem__(self, idx):\n",
    "        features = self.features[idx]\n",
    "        labels = self.labels[idx]\n",
    "        features = torch.tensor(features, dtype=torch.long)\n",
    "        labels = torch.tensor(labels, dtype=torch.long)\n",
    "        return features, labels\n",
    "\n",
    "train_dataset = TextDataset(train_feature, train_label)\n",
    "val_dataset = TextDataset(val_feature, val_label)\n",
    "test_dataset = TextDataset(test_feature, test_label)\n",
    "\n",
    "train_loader = DataLoader(train_dataset, batch_size=64)\n",
    "val_loader = DataLoader(val_dataset, batch_size=64)\n",
    "test_loader = DataLoader(test_dataset, batch_size=64)"
   ]
  },
  {
   "cell_type": "code",
   "execution_count": 6,
   "metadata": {},
   "outputs": [],
   "source": [
    "class LSTMModel(nn.Module):\n",
    "    def __init__(self, vocab_size, embedding_dim, hidden_dim, output_dim):\n",
    "        super(LSTMModel, self).__init__()\n",
    "        self.embedding = nn.Embedding(vocab_size, embedding_dim)\n",
    "        self.lstm1 = nn.LSTM(embedding_dim, hidden_dim, batch_first=True, bidirectional=True)\n",
    "        self.lstm2 = nn.LSTM(hidden_dim * 2, hidden_dim, batch_first=True, bidirectional=True)\n",
    "        self.fc = nn.Linear(hidden_dim * 2, output_dim)\n",
    "        self.dropout = nn.Dropout(0.5)\n",
    "        self.relu = nn.ReLU()\n",
    "    \n",
    "    def forward(self, x):\n",
    "        x = self.embedding(x)\n",
    "        x, _ = self.lstm1(x)\n",
    "        x, _ = self.lstm2(x)\n",
    "        x = self.dropout(x[:, -1, :])\n",
    "        x = self.relu(x)\n",
    "        x = self.fc(x)\n",
    "        return x\n",
    "\n",
    "vocab_size = 10000 + 1 \n",
    "embedding_dim = 200\n",
    "hidden_dim = 256\n",
    "output_dim = len(label_encoder.classes_)\n",
    "\n",
    "model = LSTMModel(vocab_size, embedding_dim, hidden_dim, output_dim)\n"
   ]
  },
  {
   "cell_type": "code",
   "execution_count": 7,
   "metadata": {},
   "outputs": [
    {
     "name": "stderr",
     "output_type": "stream",
     "text": [
      "d:\\anaconda3\\envs\\lab\\Lib\\site-packages\\tqdm\\auto.py:21: TqdmWarning: IProgress not found. Please update jupyter and ipywidgets. See https://ipywidgets.readthedocs.io/en/stable/user_install.html\n",
      "  from .autonotebook import tqdm as notebook_tqdm\n"
     ]
    }
   ],
   "source": [
    "criterion = nn.CrossEntropyLoss()\n",
    "optimizer = optim.Adam(model.parameters(), lr=0.001)"
   ]
  },
  {
   "cell_type": "code",
   "execution_count": 9,
   "metadata": {},
   "outputs": [
    {
     "name": "stdout",
     "output_type": "stream",
     "text": [
      "Epoch 1/50, Training Loss: 0.1325, Training Accuracy: 0.9538, Validation Loss: 0.1987, Validation Accuracy: 0.9299\n",
      "Epoch 2/50, Training Loss: 0.0663, Training Accuracy: 0.9764, Validation Loss: 0.1791, Validation Accuracy: 0.9449\n",
      "Epoch 3/50, Training Loss: 0.0389, Training Accuracy: 0.9861, Validation Loss: 0.2022, Validation Accuracy: 0.9426\n",
      "Epoch 4/50, Training Loss: 0.0412, Training Accuracy: 0.9874, Validation Loss: 0.1908, Validation Accuracy: 0.9449\n",
      "Epoch 5/50, Training Loss: 0.0257, Training Accuracy: 0.9924, Validation Loss: 0.2064, Validation Accuracy: 0.9449\n",
      "Epoch 6/50, Training Loss: 0.0128, Training Accuracy: 0.9959, Validation Loss: 0.2080, Validation Accuracy: 0.9437\n",
      "Epoch 7/50, Training Loss: 0.0330, Training Accuracy: 0.9882, Validation Loss: 0.2246, Validation Accuracy: 0.9431\n",
      "Epoch 8/50, Training Loss: 0.0166, Training Accuracy: 0.9950, Validation Loss: 0.2313, Validation Accuracy: 0.9449\n",
      "Epoch 9/50, Training Loss: 0.0123, Training Accuracy: 0.9961, Validation Loss: 0.2511, Validation Accuracy: 0.9443\n",
      "Epoch 10/50, Training Loss: 0.0401, Training Accuracy: 0.9887, Validation Loss: 0.1981, Validation Accuracy: 0.9472\n",
      "Epoch 11/50, Training Loss: 0.0110, Training Accuracy: 0.9971, Validation Loss: 0.1987, Validation Accuracy: 0.9518\n",
      "Epoch 12/50, Training Loss: 0.0056, Training Accuracy: 0.9983, Validation Loss: 0.2017, Validation Accuracy: 0.9512\n",
      "Epoch 13/50, Training Loss: 0.0060, Training Accuracy: 0.9975, Validation Loss: 0.2121, Validation Accuracy: 0.9460\n",
      "Epoch 14/50, Training Loss: 0.0059, Training Accuracy: 0.9981, Validation Loss: 0.2340, Validation Accuracy: 0.9449\n",
      "Epoch 15/50, Training Loss: 0.0056, Training Accuracy: 0.9979, Validation Loss: 0.2301, Validation Accuracy: 0.9495\n",
      "Epoch 16/50, Training Loss: 0.0036, Training Accuracy: 0.9986, Validation Loss: 0.2521, Validation Accuracy: 0.9477\n",
      "Epoch 17/50, Training Loss: 0.0032, Training Accuracy: 0.9987, Validation Loss: 0.2544, Validation Accuracy: 0.9489\n",
      "Epoch 18/50, Training Loss: 0.0023, Training Accuracy: 0.9989, Validation Loss: 0.2689, Validation Accuracy: 0.9495\n",
      "Epoch 19/50, Training Loss: 0.0019, Training Accuracy: 0.9989, Validation Loss: 0.2784, Validation Accuracy: 0.9506\n",
      "Epoch 20/50, Training Loss: 0.0019, Training Accuracy: 0.9992, Validation Loss: 0.2805, Validation Accuracy: 0.9506\n",
      "Epoch 21/50, Training Loss: 0.0051, Training Accuracy: 0.9979, Validation Loss: 0.3972, Validation Accuracy: 0.9385\n",
      "Epoch 22/50, Training Loss: 0.0453, Training Accuracy: 0.9858, Validation Loss: 0.2118, Validation Accuracy: 0.9414\n",
      "Epoch 23/50, Training Loss: 0.0181, Training Accuracy: 0.9943, Validation Loss: 0.1928, Validation Accuracy: 0.9512\n",
      "Epoch 24/50, Training Loss: 0.0090, Training Accuracy: 0.9971, Validation Loss: 0.2393, Validation Accuracy: 0.9477\n",
      "Epoch 25/50, Training Loss: 0.0099, Training Accuracy: 0.9970, Validation Loss: 0.2080, Validation Accuracy: 0.9483\n",
      "Epoch 26/50, Training Loss: 0.0047, Training Accuracy: 0.9987, Validation Loss: 0.2089, Validation Accuracy: 0.9523\n",
      "Epoch 27/50, Training Loss: 0.0023, Training Accuracy: 0.9989, Validation Loss: 0.2006, Validation Accuracy: 0.9535\n",
      "Epoch 28/50, Training Loss: 0.0025, Training Accuracy: 0.9992, Validation Loss: 0.2035, Validation Accuracy: 0.9529\n",
      "Epoch 29/50, Training Loss: 0.0021, Training Accuracy: 0.9989, Validation Loss: 0.2135, Validation Accuracy: 0.9518\n",
      "Epoch 30/50, Training Loss: 0.0017, Training Accuracy: 0.9992, Validation Loss: 0.2239, Validation Accuracy: 0.9523\n",
      "Epoch 31/50, Training Loss: 0.0013, Training Accuracy: 0.9991, Validation Loss: 0.2320, Validation Accuracy: 0.9518\n",
      "Epoch 32/50, Training Loss: 0.0018, Training Accuracy: 0.9991, Validation Loss: 0.2388, Validation Accuracy: 0.9512\n",
      "Epoch 33/50, Training Loss: 0.0014, Training Accuracy: 0.9992, Validation Loss: 0.2494, Validation Accuracy: 0.9495\n",
      "Epoch 34/50, Training Loss: 0.0011, Training Accuracy: 0.9994, Validation Loss: 0.2514, Validation Accuracy: 0.9506\n",
      "Epoch 35/50, Training Loss: 0.0013, Training Accuracy: 0.9993, Validation Loss: 0.2576, Validation Accuracy: 0.9523\n",
      "Epoch 36/50, Training Loss: 0.0017, Training Accuracy: 0.9991, Validation Loss: 0.2566, Validation Accuracy: 0.9500\n",
      "Epoch 37/50, Training Loss: 0.0281, Training Accuracy: 0.9915, Validation Loss: 0.2214, Validation Accuracy: 0.9483\n",
      "Epoch 38/50, Training Loss: 0.0196, Training Accuracy: 0.9941, Validation Loss: 0.2031, Validation Accuracy: 0.9518\n",
      "Epoch 39/50, Training Loss: 0.0075, Training Accuracy: 0.9977, Validation Loss: 0.1883, Validation Accuracy: 0.9546\n",
      "Epoch 40/50, Training Loss: 0.0036, Training Accuracy: 0.9989, Validation Loss: 0.1848, Validation Accuracy: 0.9581\n",
      "Epoch 41/50, Training Loss: 0.0028, Training Accuracy: 0.9987, Validation Loss: 0.1864, Validation Accuracy: 0.9586\n",
      "Epoch 42/50, Training Loss: 0.0018, Training Accuracy: 0.9992, Validation Loss: 0.1971, Validation Accuracy: 0.9598\n",
      "Epoch 43/50, Training Loss: 0.0013, Training Accuracy: 0.9993, Validation Loss: 0.2027, Validation Accuracy: 0.9575\n",
      "Epoch 44/50, Training Loss: 0.0014, Training Accuracy: 0.9993, Validation Loss: 0.2072, Validation Accuracy: 0.9598\n",
      "Epoch 45/50, Training Loss: 0.0018, Training Accuracy: 0.9992, Validation Loss: 0.2129, Validation Accuracy: 0.9592\n",
      "Epoch 46/50, Training Loss: 0.0013, Training Accuracy: 0.9995, Validation Loss: 0.2172, Validation Accuracy: 0.9598\n",
      "Epoch 47/50, Training Loss: 0.0014, Training Accuracy: 0.9992, Validation Loss: 0.2207, Validation Accuracy: 0.9581\n",
      "Epoch 48/50, Training Loss: 0.0017, Training Accuracy: 0.9990, Validation Loss: 0.2239, Validation Accuracy: 0.9586\n",
      "Epoch 49/50, Training Loss: 0.0013, Training Accuracy: 0.9992, Validation Loss: 0.2278, Validation Accuracy: 0.9586\n",
      "Epoch 50/50, Training Loss: 0.0011, Training Accuracy: 0.9995, Validation Loss: 0.2287, Validation Accuracy: 0.9586\n"
     ]
    }
   ],
   "source": [
    "device = torch.device('cuda' if torch.cuda.is_available() else 'cpu')\n",
    "model.to(device)\n",
    "\n",
    "epochs = 50\n",
    "train_losses = []\n",
    "val_losses = []\n",
    "train_accuracies = []\n",
    "\n",
    "for epoch in range(epochs):\n",
    "    model.train()\n",
    "    total_train_loss = 0\n",
    "    correct_train_predictions = 0\n",
    "\n",
    "    for features, labels in train_loader:\n",
    "        features = features.to(device)\n",
    "        labels = labels.to(device)\n",
    "\n",
    "        optimizer.zero_grad()\n",
    "        outputs = model(features)\n",
    "        loss = criterion(outputs, labels)\n",
    "        total_train_loss += loss.item()\n",
    "        \n",
    "        predictions = torch.argmax(outputs, dim=1)\n",
    "        correct_train_predictions += torch.sum(predictions == labels)\n",
    "        \n",
    "        loss.backward()\n",
    "        optimizer.step()\n",
    "\n",
    "    avg_train_loss = total_train_loss / len(train_loader)\n",
    "    train_accuracy = correct_train_predictions.double() / len(train_loader.dataset)\n",
    "    \n",
    "    train_losses.append(avg_train_loss)\n",
    "    train_accuracies.append(train_accuracy)\n",
    "\n",
    "    model.eval()\n",
    "    total_val_loss = 0\n",
    "    correct_val_predictions = 0\n",
    "\n",
    "    with torch.no_grad():\n",
    "        for features, labels in val_loader:\n",
    "            features = features.to(device)\n",
    "            labels = labels.to(device)\n",
    "            outputs = model(features)\n",
    "            loss = criterion(outputs, labels)\n",
    "            total_val_loss += loss.item()\n",
    "            \n",
    "            predictions = torch.argmax(outputs, dim=1)\n",
    "            correct_val_predictions += torch.sum(predictions == labels)\n",
    "\n",
    "    avg_val_loss = total_val_loss / len(val_loader)\n",
    "    val_losses.append(avg_val_loss)\n",
    "    val_accuracy = correct_val_predictions.double() / len(val_loader.dataset)\n",
    "\n",
    "    print(f'Epoch {epoch+1}/{epochs}, Training Loss: {avg_train_loss:.4f}, Training Accuracy: {train_accuracy:.4f}, Validation Loss: {avg_val_loss:.4f}, Validation Accuracy: {val_accuracy:.4f}')\n"
   ]
  },
  {
   "cell_type": "code",
   "execution_count": 12,
   "metadata": {},
   "outputs": [
    {
     "data": {
      "image/png": "[encoded data removed]",
      "text/plain": [
       "<Figure size 1000x500 with 1 Axes>"
      ]
     },
     "metadata": {},
     "output_type": "display_data"
    }
   ],
   "source": [
    "plt.figure(figsize=(10, 5))\n",
    "plt.plot(range(1, epochs + 1), train_losses, label='Training Loss')\n",
    "plt.plot(range(1, epochs + 1), val_losses, label='Validation Loss')\n",
    "plt.xlabel('Epochs')\n",
    "plt.ylabel('Loss')\n",
    "plt.title('Training and Validation Loss')\n",
    "plt.legend()\n",
    "plt.show()"
   ]
  },
  {
   "cell_type": "code",
   "execution_count": 10,
   "metadata": {},
   "outputs": [
    {
     "name": "stdout",
     "output_type": "stream",
     "text": [
      "Test Loss: 0.2466\n",
      "Test Accuracy: 0.9606\n"
     ]
    }
   ],
   "source": [
    "model.eval()\n",
    "total_test_loss = 0\n",
    "correct_predictions = 0\n",
    "with torch.no_grad():\n",
    "    for features, labels in test_loader:\n",
    "        features = features.to(device)\n",
    "        labels = labels.to(device)\n",
    "        outputs = model(features)\n",
    "        loss = criterion(outputs, labels)\n",
    "        total_test_loss += loss.item()\n",
    "        predictions = torch.argmax(outputs, dim=1)\n",
    "        correct_predictions += torch.sum(predictions == labels)\n",
    "\n",
    "avg_test_loss = total_test_loss / len(test_loader)\n",
    "accuracy = correct_predictions.double() / len(test_loader.dataset)\n",
    "\n",
    "print(f'Test Loss: {avg_test_loss:.4f}')\n",
    "print(f'Test Accuracy: {accuracy:.4f}')"
   ]
  },
  {
   "cell_type": "code",
   "execution_count": 11,
   "metadata": {},
   "outputs": [],
   "source": [
    "torch.save(model.state_dict(), './Model_B.pth')"
   ]
  }
 ],
 "metadata": {
  "kernelspec": {
   "display_name": "lab",
   "language": "python",
   "name": "python3"
  },
  "language_info": {
   "codemirror_mode": {
    "name": "ipython",
    "version": 3
   },
   "file_extension": ".py",
   "mimetype": "text/x-python",
   "name": "python",
   "nbconvert_exporter": "python",
   "pygments_lexer": "ipython3",
   "version": "3.11.5"
  }
 },
 "nbformat": 4,
 "nbformat_minor": 2
}
